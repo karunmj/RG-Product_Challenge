{
 "cells": [
  {
   "cell_type": "markdown",
   "metadata": {},
   "source": [
    "# Challenge Product Analyst\n",
    "\n",
    "\n",
    "## Data Analysis\n",
    "\n",
    "*The following questions will relate to the dataset \"ChallengeData.xls\" you will have received along with this challenge that relates to the following hypothetical scenario:*\n",
    "\n",
    "*You own a company selling bio-products like antibodies online, to scientists. Approximately 4 months ago you ran a test on a page on your site asking users to register and encouraging them to purchase antibodies. There were three variants of the page, A, B & C and based on which page the person saw they were then moved into different cohorts of the same name. The attached data shows what information the user provided while registering and their purchasing behavior in the subsequent months. Assume the cost of antibodies are always the same and all users who saw the page signed up, although not always providing the same level of information. Start by plotting the data in any way you think is useful and use these graphs to justify your answers to the following questions.*"
   ]
  },
  {
   "cell_type": "markdown",
   "metadata": {},
   "source": [
    "##### Importing the necessary libraries "
   ]
  },
  {
   "cell_type": "code",
   "execution_count": 3,
   "metadata": {},
   "outputs": [],
   "source": [
    "import warnings\n",
    "import pandas as pd\n",
    "import matplotlib.pyplot as plt\n",
    "import seaborn as sns\n",
    "import numpy as np\n",
    "from scipy import stats\n",
    "import statistics\n",
    "import statsmodels.api as sm\n",
    "from statsmodels.formula.api import ols\n",
    "from scipy.stats.stats import pearsonr\n",
    "\n",
    "warnings.filterwarnings(\"ignore\")"
   ]
  },
  {
   "cell_type": "markdown",
   "metadata": {},
   "source": [
    "##### Loading the data "
   ]
  },
  {
   "cell_type": "code",
   "execution_count": 4,
   "metadata": {},
   "outputs": [
    {
     "data": {
      "text/html": [
       "<div>\n",
       "<style scoped>\n",
       "    .dataframe tbody tr th:only-of-type {\n",
       "        vertical-align: middle;\n",
       "    }\n",
       "\n",
       "    .dataframe tbody tr th {\n",
       "        vertical-align: top;\n",
       "    }\n",
       "\n",
       "    .dataframe thead th {\n",
       "        text-align: right;\n",
       "    }\n",
       "</style>\n",
       "<table border=\"1\" class=\"dataframe\">\n",
       "  <thead>\n",
       "    <tr style=\"text-align: right;\">\n",
       "      <th></th>\n",
       "      <th>userid</th>\n",
       "      <th>cohort</th>\n",
       "      <th>has_first_name</th>\n",
       "      <th>has_last_name</th>\n",
       "      <th>has_verfied_email</th>\n",
       "      <th>has_phone</th>\n",
       "      <th>number_of_items_watched</th>\n",
       "    </tr>\n",
       "  </thead>\n",
       "  <tbody>\n",
       "    <tr>\n",
       "      <th>0</th>\n",
       "      <td>1101</td>\n",
       "      <td>c</td>\n",
       "      <td>False</td>\n",
       "      <td>True</td>\n",
       "      <td>False</td>\n",
       "      <td>False</td>\n",
       "      <td>0</td>\n",
       "    </tr>\n",
       "    <tr>\n",
       "      <th>1</th>\n",
       "      <td>1105</td>\n",
       "      <td>a</td>\n",
       "      <td>True</td>\n",
       "      <td>True</td>\n",
       "      <td>False</td>\n",
       "      <td>True</td>\n",
       "      <td>1</td>\n",
       "    </tr>\n",
       "    <tr>\n",
       "      <th>2</th>\n",
       "      <td>1109</td>\n",
       "      <td>c</td>\n",
       "      <td>True</td>\n",
       "      <td>True</td>\n",
       "      <td>True</td>\n",
       "      <td>False</td>\n",
       "      <td>10</td>\n",
       "    </tr>\n",
       "    <tr>\n",
       "      <th>3</th>\n",
       "      <td>1118</td>\n",
       "      <td>a</td>\n",
       "      <td>True</td>\n",
       "      <td>False</td>\n",
       "      <td>False</td>\n",
       "      <td>False</td>\n",
       "      <td>0</td>\n",
       "    </tr>\n",
       "    <tr>\n",
       "      <th>4</th>\n",
       "      <td>1135</td>\n",
       "      <td>c</td>\n",
       "      <td>True</td>\n",
       "      <td>True</td>\n",
       "      <td>True</td>\n",
       "      <td>False</td>\n",
       "      <td>5</td>\n",
       "    </tr>\n",
       "  </tbody>\n",
       "</table>\n",
       "</div>"
      ],
      "text/plain": [
       "   userid cohort  has_first_name  has_last_name  has_verfied_email  has_phone  \\\n",
       "0    1101      c           False           True              False      False   \n",
       "1    1105      a            True           True              False       True   \n",
       "2    1109      c            True           True               True      False   \n",
       "3    1118      a            True          False              False      False   \n",
       "4    1135      c            True           True               True      False   \n",
       "\n",
       "   number_of_items_watched  \n",
       "0                        0  \n",
       "1                        1  \n",
       "2                       10  \n",
       "3                        0  \n",
       "4                        5  "
      ]
     },
     "execution_count": 4,
     "metadata": {},
     "output_type": "execute_result"
    }
   ],
   "source": [
    "df1 = pd.read_excel(\"ChallengeData.xlsx\", sheet_name = 'user_data')\n",
    "df1.head(5)   "
   ]
  },
  {
   "cell_type": "code",
   "execution_count": 5,
   "metadata": {},
   "outputs": [
    {
     "data": {
      "text/html": [
       "<div>\n",
       "<style scoped>\n",
       "    .dataframe tbody tr th:only-of-type {\n",
       "        vertical-align: middle;\n",
       "    }\n",
       "\n",
       "    .dataframe tbody tr th {\n",
       "        vertical-align: top;\n",
       "    }\n",
       "\n",
       "    .dataframe thead th {\n",
       "        text-align: right;\n",
       "    }\n",
       "</style>\n",
       "<table border=\"1\" class=\"dataframe\">\n",
       "  <thead>\n",
       "    <tr style=\"text-align: right;\">\n",
       "      <th></th>\n",
       "      <th>userid</th>\n",
       "      <th>week 1</th>\n",
       "      <th>week 2</th>\n",
       "      <th>week 3</th>\n",
       "      <th>week 4</th>\n",
       "      <th>week 5</th>\n",
       "      <th>week 6</th>\n",
       "      <th>week 7</th>\n",
       "      <th>week 8</th>\n",
       "      <th>week 9</th>\n",
       "      <th>week 10</th>\n",
       "      <th>week 11</th>\n",
       "      <th>week 12</th>\n",
       "      <th>week 13</th>\n",
       "      <th>week 14</th>\n",
       "      <th>week 15</th>\n",
       "    </tr>\n",
       "  </thead>\n",
       "  <tbody>\n",
       "    <tr>\n",
       "      <th>0</th>\n",
       "      <td>1101</td>\n",
       "      <td>0</td>\n",
       "      <td>0</td>\n",
       "      <td>4</td>\n",
       "      <td>1</td>\n",
       "      <td>1</td>\n",
       "      <td>0</td>\n",
       "      <td>0</td>\n",
       "      <td>2</td>\n",
       "      <td>0</td>\n",
       "      <td>0</td>\n",
       "      <td>0</td>\n",
       "      <td>1</td>\n",
       "      <td>0</td>\n",
       "      <td>0</td>\n",
       "      <td>1</td>\n",
       "    </tr>\n",
       "    <tr>\n",
       "      <th>1</th>\n",
       "      <td>1105</td>\n",
       "      <td>6</td>\n",
       "      <td>5</td>\n",
       "      <td>3</td>\n",
       "      <td>4</td>\n",
       "      <td>4</td>\n",
       "      <td>2</td>\n",
       "      <td>0</td>\n",
       "      <td>0</td>\n",
       "      <td>1</td>\n",
       "      <td>0</td>\n",
       "      <td>3</td>\n",
       "      <td>3</td>\n",
       "      <td>0</td>\n",
       "      <td>0</td>\n",
       "      <td>1</td>\n",
       "    </tr>\n",
       "    <tr>\n",
       "      <th>2</th>\n",
       "      <td>1109</td>\n",
       "      <td>0</td>\n",
       "      <td>0</td>\n",
       "      <td>4</td>\n",
       "      <td>3</td>\n",
       "      <td>4</td>\n",
       "      <td>0</td>\n",
       "      <td>1</td>\n",
       "      <td>1</td>\n",
       "      <td>0</td>\n",
       "      <td>0</td>\n",
       "      <td>1</td>\n",
       "      <td>0</td>\n",
       "      <td>0</td>\n",
       "      <td>0</td>\n",
       "      <td>0</td>\n",
       "    </tr>\n",
       "    <tr>\n",
       "      <th>3</th>\n",
       "      <td>1118</td>\n",
       "      <td>0</td>\n",
       "      <td>2</td>\n",
       "      <td>3</td>\n",
       "      <td>5</td>\n",
       "      <td>0</td>\n",
       "      <td>0</td>\n",
       "      <td>0</td>\n",
       "      <td>2</td>\n",
       "      <td>1</td>\n",
       "      <td>0</td>\n",
       "      <td>3</td>\n",
       "      <td>3</td>\n",
       "      <td>0</td>\n",
       "      <td>0</td>\n",
       "      <td>0</td>\n",
       "    </tr>\n",
       "    <tr>\n",
       "      <th>4</th>\n",
       "      <td>1135</td>\n",
       "      <td>0</td>\n",
       "      <td>0</td>\n",
       "      <td>4</td>\n",
       "      <td>3</td>\n",
       "      <td>0</td>\n",
       "      <td>3</td>\n",
       "      <td>0</td>\n",
       "      <td>1</td>\n",
       "      <td>0</td>\n",
       "      <td>2</td>\n",
       "      <td>0</td>\n",
       "      <td>1</td>\n",
       "      <td>0</td>\n",
       "      <td>1</td>\n",
       "      <td>2</td>\n",
       "    </tr>\n",
       "  </tbody>\n",
       "</table>\n",
       "</div>"
      ],
      "text/plain": [
       "   userid  week 1  week 2  week 3  week 4  week 5  week 6  week 7  week 8  \\\n",
       "0    1101       0       0       4       1       1       0       0       2   \n",
       "1    1105       6       5       3       4       4       2       0       0   \n",
       "2    1109       0       0       4       3       4       0       1       1   \n",
       "3    1118       0       2       3       5       0       0       0       2   \n",
       "4    1135       0       0       4       3       0       3       0       1   \n",
       "\n",
       "   week 9  week 10  week 11  week 12  week 13  week 14  week 15  \n",
       "0       0        0        0        1        0        0        1  \n",
       "1       1        0        3        3        0        0        1  \n",
       "2       0        0        1        0        0        0        0  \n",
       "3       1        0        3        3        0        0        0  \n",
       "4       0        2        0        1        0        1        2  "
      ]
     },
     "execution_count": 5,
     "metadata": {},
     "output_type": "execute_result"
    }
   ],
   "source": [
    "df2 = pd.read_excel(\"ChallengeData.xlsx\", sheet_name = 'week_total_purchases', usecols = 15)\n",
    "df2.head(5)   "
   ]
  },
  {
   "cell_type": "markdown",
   "metadata": {},
   "source": [
    "### *Q1a: If the goal of the experiment was to sell more antibodies, which variant (A, B or C) will you pick as the winner? Justify your answer. (Please note: To \"watch\" an item means that the user marks it as relevant on her / his watch list.)*"
   ]
  },
  {
   "cell_type": "markdown",
   "metadata": {},
   "source": [
    "Let's define the winning cohort as the one that sold the most antibodies.\n",
    "More specifically, since we have the weekly purchases made by every user, \n",
    "\n",
    "* First, let's sum the total antobodies bought by each user.\n",
    "* Second we look at the mean of all the users' total antobodies purchased, within each cohort. \n",
    "* Third, we run inferential statistics on the cohort means, to see which performed the best. \n",
    "\n",
    "Let's create a new dataframe that includes the above data and suitable for analysis\n",
    "<br />"
   ]
  },
  {
   "cell_type": "code",
   "execution_count": 6,
   "metadata": {},
   "outputs": [
    {
     "data": {
      "text/html": [
       "<div>\n",
       "<style scoped>\n",
       "    .dataframe tbody tr th:only-of-type {\n",
       "        vertical-align: middle;\n",
       "    }\n",
       "\n",
       "    .dataframe tbody tr th {\n",
       "        vertical-align: top;\n",
       "    }\n",
       "\n",
       "    .dataframe thead th {\n",
       "        text-align: right;\n",
       "    }\n",
       "</style>\n",
       "<table border=\"1\" class=\"dataframe\">\n",
       "  <thead>\n",
       "    <tr style=\"text-align: right;\">\n",
       "      <th></th>\n",
       "      <th>userid</th>\n",
       "      <th>cohort</th>\n",
       "      <th>total_antibodies_sold</th>\n",
       "    </tr>\n",
       "  </thead>\n",
       "  <tbody>\n",
       "    <tr>\n",
       "      <th>0</th>\n",
       "      <td>1101</td>\n",
       "      <td>c</td>\n",
       "      <td>10</td>\n",
       "    </tr>\n",
       "    <tr>\n",
       "      <th>1</th>\n",
       "      <td>1105</td>\n",
       "      <td>a</td>\n",
       "      <td>32</td>\n",
       "    </tr>\n",
       "    <tr>\n",
       "      <th>2</th>\n",
       "      <td>1109</td>\n",
       "      <td>c</td>\n",
       "      <td>14</td>\n",
       "    </tr>\n",
       "    <tr>\n",
       "      <th>3</th>\n",
       "      <td>1118</td>\n",
       "      <td>a</td>\n",
       "      <td>19</td>\n",
       "    </tr>\n",
       "    <tr>\n",
       "      <th>4</th>\n",
       "      <td>1135</td>\n",
       "      <td>c</td>\n",
       "      <td>17</td>\n",
       "    </tr>\n",
       "  </tbody>\n",
       "</table>\n",
       "</div>"
      ],
      "text/plain": [
       "  userid cohort  total_antibodies_sold\n",
       "0   1101      c                     10\n",
       "1   1105      a                     32\n",
       "2   1109      c                     14\n",
       "3   1118      a                     19\n",
       "4   1135      c                     17"
      ]
     },
     "execution_count": 6,
     "metadata": {},
     "output_type": "execute_result"
    }
   ],
   "source": [
    "# Merging the dataframes and including the new metric of total antibodies sold as 'total_antibodies_sold'\n",
    "dftotal = pd.merge(df1, df2, on=['userid'])\n",
    "dftotal.drop(['has_first_name', 'has_last_name', 'has_verfied_email', 'has_phone', 'number_of_items_watched'], axis=1, inplace=True)\n",
    "dftotal['total_antibodies_sold'] = dftotal[['week 1', 'week 2', 'week 3', 'week 4', 'week 5', 'week 6', 'week 7', 'week 8', 'week 9', 'week 10', 'week 11', 'week 12', 'week 13', 'week 14', 'week 15']].sum(axis=1)\n",
    "dftotal.drop(['week 1', 'week 2', 'week 3', 'week 4', 'week 5', 'week 6', 'week 7', 'week 8', 'week 9', 'week 10', 'week 11', 'week 12', 'week 13', 'week 14', 'week 15'], axis=1, inplace=True)\n",
    "dftotal['userid'] = pd.Categorical(dftotal.userid)\n",
    "dftotal.head(5)   "
   ]
  },
  {
   "cell_type": "markdown",
   "metadata": {},
   "source": [
    "##### Running descriptive statistics and generating plots"
   ]
  },
  {
   "cell_type": "code",
   "execution_count": 7,
   "metadata": {},
   "outputs": [
    {
     "name": "stdout",
     "output_type": "stream",
     "text": [
      "DescribeResult(nobs=396, minmax=(3, 48), mean=19.598484848484848, variance=40.600402761795166, skewness=0.34482748036041655, kurtosis=0.7710741204404234)\n",
      "DescribeResult(nobs=278, minmax=(8, 50), mean=28.636690647482013, variance=62.93251175233098, skewness=0.21845805589425657, kurtosis=-0.13152801010343618)\n",
      "DescribeResult(nobs=434, minmax=(2, 45), mean=14.550691244239632, variance=31.555161183895446, skewness=1.0342194391152233, kurtosis=2.8961877881646467)\n"
     ]
    },
    {
     "data": {
      "image/png": "[encoded data removed]",
      "text/plain": [
       "<Figure size 432x288 with 1 Axes>"
      ]
     },
     "metadata": {
      "needs_background": "light"
     },
     "output_type": "display_data"
    },
    {
     "data": {
      "image/png": "[encoded data removed]",
      "text/plain": [
       "<Figure size 432x288 with 1 Axes>"
      ]
     },
     "metadata": {
      "needs_background": "light"
     },
     "output_type": "display_data"
    },
    {
     "data": {
      "image/png": "[encoded data removed]",
      "text/plain": [
       "<Figure size 432x288 with 1 Axes>"
      ]
     },
     "metadata": {
      "needs_background": "light"
     },
     "output_type": "display_data"
    },
    {
     "data": {
      "image/png": "[encoded data removed]",
      "text/plain": [
       "<Figure size 432x288 with 1 Axes>"
      ]
     },
     "metadata": {
      "needs_background": "light"
     },
     "output_type": "display_data"
    },
    {
     "data": {
      "image/png": "[encoded data removed]",
      "text/plain": [
       "<Figure size 432x288 with 1 Axes>"
      ]
     },
     "metadata": {
      "needs_background": "light"
     },
     "output_type": "display_data"
    }
   ],
   "source": [
    "cohort_a = []\n",
    "cohort_b = []\n",
    "cohort_c = []\n",
    "\n",
    "for index, row in dftotal.iterrows():\n",
    "    if row['cohort'] == \"a\":\n",
    "        cohort_a.append(row['total_antibodies_sold'])\n",
    "    if row['cohort'] == \"b\":\n",
    "        cohort_b.append(row['total_antibodies_sold'])\n",
    "    if row['cohort'] == \"c\":\n",
    "        cohort_c.append(row['total_antibodies_sold'])\n",
    "\n",
    "print(stats.describe(cohort_a))\n",
    "print(stats.describe(cohort_b))\n",
    "print(stats.describe(cohort_c))\n",
    "\n",
    "fig1, ax1 = plt.subplots()\n",
    "ax1.boxplot([cohort_a, cohort_b, cohort_c], labels = ['cohort_a', 'cohort_b', 'cohort_c',])\n",
    "plt.show()\n",
    "\n",
    "plt.hist(cohort_a, bins='auto', alpha=0.5, label='cohort_a', color = \"green\")\n",
    "plt.xlabel('Total Antibodies sold')\n",
    "plt.ylabel('Frequency')\n",
    "plt.legend()\n",
    "plt.show() \n",
    "\n",
    "plt.hist(cohort_b, bins='auto', alpha=0.5, label='cohort_b', color = \"blue\")\n",
    "plt.xlabel('Total Antibodies sold')\n",
    "plt.ylabel('Frequency')\n",
    "plt.legend()\n",
    "plt.show()\n",
    "\n",
    "plt.hist(cohort_c, bins='auto', alpha=0.5, label='cohort_c', color = \"red\")\n",
    "plt.xlabel('Total Antibodies sold')\n",
    "plt.ylabel('Frequency')\n",
    "plt.legend()\n",
    "plt.show()\n",
    "\n",
    "ax = sns.barplot(data = [cohort_a, cohort_b, cohort_c], ci=95)"
   ]
  },
  {
   "cell_type": "markdown",
   "metadata": {},
   "source": [
    "From the box plots, it looks like there is an even spread of antibodies sold for all three cohorts.\n",
    "The histograms indicate the distribution of antibodies sold to follow an almost normal distribution.\n",
    "Since the error bars (corresponding to 95% Confidence Interval) do not look like they are overlapping, it looks like the difference in means between cohort could be significant. \n",
    "\n",
    "The null and alternative hypotheses can be stated as below: <br/>\n",
    "\n",
    "    H0: The cohort means are same \n",
    "    HA: The cohort means are different \n",
    "    \n",
    "For the above hypotheses and the data and type of experiment, let's chose a one-way ANOVA test to check for significance between the cohorts.\n",
    "\n",
    "In order to run the ANOVA test, it is important to check for their assumptions\n",
    "\n",
    "1) Measures are sampled independantly from each other <br />\n",
    "2) Residuals follows a normal distribution <br />\n",
    "3) There is homogenitiy in the measures' variances <br />\n",
    "\n",
    "It can be assumed that the measures are unique and independant as they are from different users and each user doesn't affect the other"
   ]
  },
  {
   "cell_type": "markdown",
   "metadata": {},
   "source": [
    "##### Performing one-way ANOVA"
   ]
  },
  {
   "cell_type": "code",
   "execution_count": 8,
   "metadata": {},
   "outputs": [
    {
     "name": "stdout",
     "output_type": "stream",
     "text": [
      "                sum_sq      df           F         PR(>F)\n",
      "cohort    33674.496029     2.0  394.738684  4.413196e-130\n",
      "Residual  47132.849639  1105.0         NaN            NaN\n"
     ]
    }
   ],
   "source": [
    "model = ols('total_antibodies_sold ~ cohort', data=dftotal).fit()\n",
    "anova_table = sm.stats.anova_lm(model, typ=2)            \n",
    "print(anova_table)"
   ]
  },
  {
   "cell_type": "markdown",
   "metadata": {},
   "source": [
    "Setting statistic significance to being below 0.05, we see that the value is below this threshold. Hence there exists statistic significance amongst the cohorts and the difference in purchasing behaviour of cohorts are not due to chance. "
   ]
  },
  {
   "cell_type": "markdown",
   "metadata": {},
   "source": [
    "##### Performing post-hoc pair-wise comparison between cohorts <br />"
   ]
  },
  {
   "cell_type": "code",
   "execution_count": 9,
   "metadata": {},
   "outputs": [
    {
     "data": {
      "text/html": [
       "<div>\n",
       "<style scoped>\n",
       "    .dataframe tbody tr th:only-of-type {\n",
       "        vertical-align: middle;\n",
       "    }\n",
       "\n",
       "    .dataframe tbody tr th {\n",
       "        vertical-align: top;\n",
       "    }\n",
       "\n",
       "    .dataframe thead th {\n",
       "        text-align: right;\n",
       "    }\n",
       "</style>\n",
       "<table border=\"1\" class=\"dataframe\">\n",
       "  <thead>\n",
       "    <tr style=\"text-align: right;\">\n",
       "      <th></th>\n",
       "      <th>coef</th>\n",
       "      <th>std err</th>\n",
       "      <th>t</th>\n",
       "      <th>P&gt;|t|</th>\n",
       "      <th>Conf. Int. Low</th>\n",
       "      <th>Conf. Int. Upp.</th>\n",
       "      <th>pvalue-hs</th>\n",
       "      <th>reject-hs</th>\n",
       "    </tr>\n",
       "  </thead>\n",
       "  <tbody>\n",
       "    <tr>\n",
       "      <th>b-a</th>\n",
       "      <td>9.038206</td>\n",
       "      <td>0.511023</td>\n",
       "      <td>17.686486</td>\n",
       "      <td>7.858582e-62</td>\n",
       "      <td>8.035520</td>\n",
       "      <td>10.040891</td>\n",
       "      <td>0.0</td>\n",
       "      <td>True</td>\n",
       "    </tr>\n",
       "    <tr>\n",
       "      <th>c-a</th>\n",
       "      <td>-5.047794</td>\n",
       "      <td>0.453866</td>\n",
       "      <td>-11.121780</td>\n",
       "      <td>2.601765e-27</td>\n",
       "      <td>-5.938329</td>\n",
       "      <td>-4.157258</td>\n",
       "      <td>0.0</td>\n",
       "      <td>True</td>\n",
       "    </tr>\n",
       "    <tr>\n",
       "      <th>c-b</th>\n",
       "      <td>-14.085999</td>\n",
       "      <td>0.501711</td>\n",
       "      <td>-28.075935</td>\n",
       "      <td>2.339451e-131</td>\n",
       "      <td>-15.070413</td>\n",
       "      <td>-13.101586</td>\n",
       "      <td>0.0</td>\n",
       "      <td>True</td>\n",
       "    </tr>\n",
       "  </tbody>\n",
       "</table>\n",
       "</div>"
      ],
      "text/plain": [
       "          coef   std err          t          P>|t|  Conf. Int. Low  \\\n",
       "b-a   9.038206  0.511023  17.686486   7.858582e-62        8.035520   \n",
       "c-a  -5.047794  0.453866 -11.121780   2.601765e-27       -5.938329   \n",
       "c-b -14.085999  0.501711 -28.075935  2.339451e-131      -15.070413   \n",
       "\n",
       "     Conf. Int. Upp.  pvalue-hs  reject-hs  \n",
       "b-a        10.040891        0.0       True  \n",
       "c-a        -4.157258        0.0       True  \n",
       "c-b       -13.101586        0.0       True  "
      ]
     },
     "execution_count": 9,
     "metadata": {},
     "output_type": "execute_result"
    }
   ],
   "source": [
    "pair_test = model.t_test_pairwise('cohort')\n",
    "pair_test.result_frame"
   ]
  },
  {
   "cell_type": "markdown",
   "metadata": {},
   "source": [
    "From the above table, there exists signifcant differences between all the cohorts\n",
    "\n",
    "#### It can then be concluded that cohort B performed the best"
   ]
  },
  {
   "cell_type": "markdown",
   "metadata": {},
   "source": [
    "(TODO) Make a statement with regard to whether the significance makes sense from a 'contextual' (e.g business, usability) perspective"
   ]
  },
  {
   "cell_type": "markdown",
   "metadata": {},
   "source": [
    "##### Testing for normal distribution of residuals <br />"
   ]
  },
  {
   "cell_type": "markdown",
   "metadata": {},
   "source": [
    "We run Shapiro-Wilke test to check if they follow a normal distribution"
   ]
  },
  {
   "cell_type": "code",
   "execution_count": 10,
   "metadata": {},
   "outputs": [],
   "source": [
    "# TODO"
   ]
  },
  {
   "cell_type": "markdown",
   "metadata": {},
   "source": [
    "If the value of p is non-significant, we can assume they follow a normal distribution. If not, we need to check if the distribution is log-normal or exponential or gamma."
   ]
  },
  {
   "cell_type": "markdown",
   "metadata": {},
   "source": [
    "##### Testing for homogenity of variances <br />"
   ]
  },
  {
   "cell_type": "code",
   "execution_count": 11,
   "metadata": {},
   "outputs": [],
   "source": [
    "# TODO"
   ]
  },
  {
   "cell_type": "markdown",
   "metadata": {},
   "source": [
    "### *Q1b: Can you identify any interesting patterns in the information provided or purchasing behavior of the cohorts? Please describe the hypotheses / research questions you analyze and any theories that could explain the patterns you observe.*"
   ]
  },
  {
   "cell_type": "markdown",
   "metadata": {},
   "source": [
    "#### The first research question would be to analyse the purchase rate of each of the cohorts and see which of them performed better. Also by analysing them against a timeline, we can hypothesize any theories that might explain certain patterns of the purchase rate \n",
    "\n",
    "##### Merging the data <br />\n"
   ]
  },
  {
   "cell_type": "code",
   "execution_count": 12,
   "metadata": {},
   "outputs": [
    {
     "data": {
      "text/html": [
       "<div>\n",
       "<style scoped>\n",
       "    .dataframe tbody tr th:only-of-type {\n",
       "        vertical-align: middle;\n",
       "    }\n",
       "\n",
       "    .dataframe tbody tr th {\n",
       "        vertical-align: top;\n",
       "    }\n",
       "\n",
       "    .dataframe thead th {\n",
       "        text-align: right;\n",
       "    }\n",
       "</style>\n",
       "<table border=\"1\" class=\"dataframe\">\n",
       "  <thead>\n",
       "    <tr style=\"text-align: right;\">\n",
       "      <th></th>\n",
       "      <th>userid</th>\n",
       "      <th>cohort</th>\n",
       "      <th>week 1</th>\n",
       "      <th>week 2</th>\n",
       "      <th>week 3</th>\n",
       "      <th>week 4</th>\n",
       "      <th>week 5</th>\n",
       "      <th>week 6</th>\n",
       "      <th>week 7</th>\n",
       "      <th>week 8</th>\n",
       "      <th>week 9</th>\n",
       "      <th>week 10</th>\n",
       "      <th>week 11</th>\n",
       "      <th>week 12</th>\n",
       "      <th>week 13</th>\n",
       "      <th>week 14</th>\n",
       "      <th>week 15</th>\n",
       "    </tr>\n",
       "  </thead>\n",
       "  <tbody>\n",
       "    <tr>\n",
       "      <th>0</th>\n",
       "      <td>1101</td>\n",
       "      <td>c</td>\n",
       "      <td>0</td>\n",
       "      <td>0</td>\n",
       "      <td>4</td>\n",
       "      <td>1</td>\n",
       "      <td>1</td>\n",
       "      <td>0</td>\n",
       "      <td>0</td>\n",
       "      <td>2</td>\n",
       "      <td>0</td>\n",
       "      <td>0</td>\n",
       "      <td>0</td>\n",
       "      <td>1</td>\n",
       "      <td>0</td>\n",
       "      <td>0</td>\n",
       "      <td>1</td>\n",
       "    </tr>\n",
       "    <tr>\n",
       "      <th>1</th>\n",
       "      <td>1105</td>\n",
       "      <td>a</td>\n",
       "      <td>6</td>\n",
       "      <td>5</td>\n",
       "      <td>3</td>\n",
       "      <td>4</td>\n",
       "      <td>4</td>\n",
       "      <td>2</td>\n",
       "      <td>0</td>\n",
       "      <td>0</td>\n",
       "      <td>1</td>\n",
       "      <td>0</td>\n",
       "      <td>3</td>\n",
       "      <td>3</td>\n",
       "      <td>0</td>\n",
       "      <td>0</td>\n",
       "      <td>1</td>\n",
       "    </tr>\n",
       "    <tr>\n",
       "      <th>2</th>\n",
       "      <td>1109</td>\n",
       "      <td>c</td>\n",
       "      <td>0</td>\n",
       "      <td>0</td>\n",
       "      <td>4</td>\n",
       "      <td>3</td>\n",
       "      <td>4</td>\n",
       "      <td>0</td>\n",
       "      <td>1</td>\n",
       "      <td>1</td>\n",
       "      <td>0</td>\n",
       "      <td>0</td>\n",
       "      <td>1</td>\n",
       "      <td>0</td>\n",
       "      <td>0</td>\n",
       "      <td>0</td>\n",
       "      <td>0</td>\n",
       "    </tr>\n",
       "    <tr>\n",
       "      <th>3</th>\n",
       "      <td>1118</td>\n",
       "      <td>a</td>\n",
       "      <td>0</td>\n",
       "      <td>2</td>\n",
       "      <td>3</td>\n",
       "      <td>5</td>\n",
       "      <td>0</td>\n",
       "      <td>0</td>\n",
       "      <td>0</td>\n",
       "      <td>2</td>\n",
       "      <td>1</td>\n",
       "      <td>0</td>\n",
       "      <td>3</td>\n",
       "      <td>3</td>\n",
       "      <td>0</td>\n",
       "      <td>0</td>\n",
       "      <td>0</td>\n",
       "    </tr>\n",
       "    <tr>\n",
       "      <th>4</th>\n",
       "      <td>1135</td>\n",
       "      <td>c</td>\n",
       "      <td>0</td>\n",
       "      <td>0</td>\n",
       "      <td>4</td>\n",
       "      <td>3</td>\n",
       "      <td>0</td>\n",
       "      <td>3</td>\n",
       "      <td>0</td>\n",
       "      <td>1</td>\n",
       "      <td>0</td>\n",
       "      <td>2</td>\n",
       "      <td>0</td>\n",
       "      <td>1</td>\n",
       "      <td>0</td>\n",
       "      <td>1</td>\n",
       "      <td>2</td>\n",
       "    </tr>\n",
       "  </tbody>\n",
       "</table>\n",
       "</div>"
      ],
      "text/plain": [
       "   userid cohort  week 1  week 2  week 3  week 4  week 5  week 6  week 7  \\\n",
       "0    1101      c       0       0       4       1       1       0       0   \n",
       "1    1105      a       6       5       3       4       4       2       0   \n",
       "2    1109      c       0       0       4       3       4       0       1   \n",
       "3    1118      a       0       2       3       5       0       0       0   \n",
       "4    1135      c       0       0       4       3       0       3       0   \n",
       "\n",
       "   week 8  week 9  week 10  week 11  week 12  week 13  week 14  week 15  \n",
       "0       2       0        0        0        1        0        0        1  \n",
       "1       0       1        0        3        3        0        0        1  \n",
       "2       1       0        0        1        0        0        0        0  \n",
       "3       2       1        0        3        3        0        0        0  \n",
       "4       1       0        2        0        1        0        1        2  "
      ]
     },
     "execution_count": 12,
     "metadata": {},
     "output_type": "execute_result"
    }
   ],
   "source": [
    "dfretention = pd.merge(df1, df2, on=['userid'])\n",
    "dfretention.drop([ 'has_first_name', 'has_last_name', 'has_verfied_email', 'has_phone', 'number_of_items_watched'], axis=1, inplace=True)\n",
    "dfretention.head(5)"
   ]
  },
  {
   "cell_type": "markdown",
   "metadata": {},
   "source": [
    "##### Forming a cohort dataframe <br />\n",
    "In order to look at purchasing rate between cohorts, let's choose the metric of total weekly purchases made by all users in each cohort\n"
   ]
  },
  {
   "cell_type": "code",
   "execution_count": 13,
   "metadata": {},
   "outputs": [],
   "source": [
    "total_weekly_cohort_a = dict.fromkeys(('week 1', 'week 2', 'week 3', 'week 4', 'week 5', 'week 6', 'week 7', 'week 8', 'week 9', 'week 10', 'week 11', 'week 12', 'week 13', 'week 14', 'week 15'), 0)\n",
    "total_weekly_cohort_b = dict.fromkeys(('week 1', 'week 2', 'week 3', 'week 4', 'week 5', 'week 6', 'week 7', 'week 8', 'week 9', 'week 10', 'week 11', 'week 12', 'week 13', 'week 14', 'week 15'), 0)\n",
    "total_weekly_cohort_c = dict.fromkeys(('week 1', 'week 2', 'week 3', 'week 4', 'week 5', 'week 6', 'week 7', 'week 8', 'week 9', 'week 10', 'week 11', 'week 12', 'week 13', 'week 14', 'week 15'), 0)\n",
    "\n",
    "for index, row in dfretention.iterrows():    \n",
    "    if row['cohort'] == \"a\":\n",
    "        for i in row.index: \n",
    "            if i in total_weekly_cohort_a.keys():\n",
    "                total_weekly_cohort_a[i] = total_weekly_cohort_a[i] + row[i]\n",
    "    if row['cohort'] == \"b\":\n",
    "        for i in row.index:\n",
    "            if i in total_weekly_cohort_a.keys():\n",
    "                total_weekly_cohort_b[i] = total_weekly_cohort_b[i] + row[i]\n",
    "    if row['cohort'] == \"c\":\n",
    "        for i in row.index: \n",
    "            if i in total_weekly_cohort_a.keys():\n",
    "                total_weekly_cohort_c[i] = total_weekly_cohort_c[i] + row[i]"
   ]
  },
  {
   "cell_type": "code",
   "execution_count": 14,
   "metadata": {},
   "outputs": [
    {
     "data": {
      "text/html": [
       "<div>\n",
       "<style scoped>\n",
       "    .dataframe tbody tr th:only-of-type {\n",
       "        vertical-align: middle;\n",
       "    }\n",
       "\n",
       "    .dataframe tbody tr th {\n",
       "        vertical-align: top;\n",
       "    }\n",
       "\n",
       "    .dataframe thead th {\n",
       "        text-align: right;\n",
       "    }\n",
       "</style>\n",
       "<table border=\"1\" class=\"dataframe\">\n",
       "  <thead>\n",
       "    <tr style=\"text-align: right;\">\n",
       "      <th></th>\n",
       "      <th>week 1</th>\n",
       "      <th>week 2</th>\n",
       "      <th>week 3</th>\n",
       "      <th>week 4</th>\n",
       "      <th>week 5</th>\n",
       "      <th>week 6</th>\n",
       "      <th>week 7</th>\n",
       "      <th>week 8</th>\n",
       "      <th>week 9</th>\n",
       "      <th>week 10</th>\n",
       "      <th>week 11</th>\n",
       "      <th>week 12</th>\n",
       "      <th>week 13</th>\n",
       "      <th>week 14</th>\n",
       "      <th>week 15</th>\n",
       "    </tr>\n",
       "  </thead>\n",
       "  <tbody>\n",
       "    <tr>\n",
       "      <th>cohort_a</th>\n",
       "      <td>799</td>\n",
       "      <td>666</td>\n",
       "      <td>670</td>\n",
       "      <td>934</td>\n",
       "      <td>521</td>\n",
       "      <td>463</td>\n",
       "      <td>318</td>\n",
       "      <td>629</td>\n",
       "      <td>408</td>\n",
       "      <td>366</td>\n",
       "      <td>323</td>\n",
       "      <td>597</td>\n",
       "      <td>407</td>\n",
       "      <td>359</td>\n",
       "      <td>301</td>\n",
       "    </tr>\n",
       "    <tr>\n",
       "      <th>cohort_b</th>\n",
       "      <td>241</td>\n",
       "      <td>288</td>\n",
       "      <td>381</td>\n",
       "      <td>838</td>\n",
       "      <td>427</td>\n",
       "      <td>419</td>\n",
       "      <td>555</td>\n",
       "      <td>964</td>\n",
       "      <td>530</td>\n",
       "      <td>568</td>\n",
       "      <td>489</td>\n",
       "      <td>929</td>\n",
       "      <td>457</td>\n",
       "      <td>390</td>\n",
       "      <td>485</td>\n",
       "    </tr>\n",
       "    <tr>\n",
       "      <th>cohort_c</th>\n",
       "      <td>641</td>\n",
       "      <td>600</td>\n",
       "      <td>584</td>\n",
       "      <td>801</td>\n",
       "      <td>517</td>\n",
       "      <td>387</td>\n",
       "      <td>328</td>\n",
       "      <td>472</td>\n",
       "      <td>288</td>\n",
       "      <td>273</td>\n",
       "      <td>233</td>\n",
       "      <td>456</td>\n",
       "      <td>253</td>\n",
       "      <td>267</td>\n",
       "      <td>215</td>\n",
       "    </tr>\n",
       "  </tbody>\n",
       "</table>\n",
       "</div>"
      ],
      "text/plain": [
       "          week 1  week 2  week 3  week 4  week 5  week 6  week 7  week 8  \\\n",
       "cohort_a     799     666     670     934     521     463     318     629   \n",
       "cohort_b     241     288     381     838     427     419     555     964   \n",
       "cohort_c     641     600     584     801     517     387     328     472   \n",
       "\n",
       "          week 9  week 10  week 11  week 12  week 13  week 14  week 15  \n",
       "cohort_a     408      366      323      597      407      359      301  \n",
       "cohort_b     530      568      489      929      457      390      485  \n",
       "cohort_c     288      273      233      456      253      267      215  "
      ]
     },
     "execution_count": 14,
     "metadata": {},
     "output_type": "execute_result"
    }
   ],
   "source": [
    "# Forming a dataframe for a heatmap visualization\n",
    "dfheat = pd.DataFrame([total_weekly_cohort_a, total_weekly_cohort_b, total_weekly_cohort_c])\n",
    "dfheat = dfheat[['week 1', 'week 2', 'week 3', 'week 4', 'week 5', 'week 6', 'week 7', 'week 8', 'week 9', 'week 10', 'week 11', 'week 12', 'week 13', 'week 14', 'week 15']]\n",
    "dfheat.rename(index={0: 'cohort_a', 1: 'cohort_b', 2: 'cohort_c'}, inplace=True)\n",
    "dfheat.head(5)"
   ]
  },
  {
   "cell_type": "code",
   "execution_count": 15,
   "metadata": {},
   "outputs": [
    {
     "data": {
      "image/png": "[encoded data removed]",
      "text/plain": [
       "<Figure size 1440x360 with 2 Axes>"
      ]
     },
     "metadata": {
      "needs_background": "light"
     },
     "output_type": "display_data"
    }
   ],
   "source": [
    "plt.figure(figsize = (20,5))\n",
    "plt.title('Cohort Analysis - Total Weekly Purchases')\n",
    "sns.heatmap(data = dfheat, annot = True, fmt='d', cmap = \"Blues\")\n",
    "plt.show()"
   ]
  },
  {
   "cell_type": "markdown",
   "metadata": {},
   "source": [
    "#### From the above visualization, it looks like for cohort A and C, there seems to be a general trend of falling purchases during the course of 15 weeks. There seems to be some sort of impetus to all cohorts at the beginning of week 4, 8 and 12. It could be that there was a specific marketing campaign or a common event to all cohorts. We can also arrive at a specific metric to quantify the temporal behaviour of rate of weekly purchases made by all users in a cohort in later analysis<br />"
   ]
  },
  {
   "cell_type": "code",
   "execution_count": 16,
   "metadata": {},
   "outputs": [
    {
     "data": {
      "text/html": [
       "<div>\n",
       "<style scoped>\n",
       "    .dataframe tbody tr th:only-of-type {\n",
       "        vertical-align: middle;\n",
       "    }\n",
       "\n",
       "    .dataframe tbody tr th {\n",
       "        vertical-align: top;\n",
       "    }\n",
       "\n",
       "    .dataframe thead th {\n",
       "        text-align: right;\n",
       "    }\n",
       "</style>\n",
       "<table border=\"1\" class=\"dataframe\">\n",
       "  <thead>\n",
       "    <tr style=\"text-align: right;\">\n",
       "      <th></th>\n",
       "      <th>cohort</th>\n",
       "      <th>has_first_name</th>\n",
       "      <th>has_last_name</th>\n",
       "      <th>has_verfied_email</th>\n",
       "      <th>has_phone</th>\n",
       "      <th>number_of_items_watched</th>\n",
       "      <th>total_antibodies_sold</th>\n",
       "    </tr>\n",
       "  </thead>\n",
       "  <tbody>\n",
       "    <tr>\n",
       "      <th>0</th>\n",
       "      <td>c</td>\n",
       "      <td>False</td>\n",
       "      <td>True</td>\n",
       "      <td>False</td>\n",
       "      <td>False</td>\n",
       "      <td>0</td>\n",
       "      <td>10</td>\n",
       "    </tr>\n",
       "    <tr>\n",
       "      <th>1</th>\n",
       "      <td>a</td>\n",
       "      <td>True</td>\n",
       "      <td>True</td>\n",
       "      <td>False</td>\n",
       "      <td>True</td>\n",
       "      <td>1</td>\n",
       "      <td>32</td>\n",
       "    </tr>\n",
       "    <tr>\n",
       "      <th>2</th>\n",
       "      <td>c</td>\n",
       "      <td>True</td>\n",
       "      <td>True</td>\n",
       "      <td>True</td>\n",
       "      <td>False</td>\n",
       "      <td>10</td>\n",
       "      <td>14</td>\n",
       "    </tr>\n",
       "    <tr>\n",
       "      <th>3</th>\n",
       "      <td>a</td>\n",
       "      <td>True</td>\n",
       "      <td>False</td>\n",
       "      <td>False</td>\n",
       "      <td>False</td>\n",
       "      <td>0</td>\n",
       "      <td>19</td>\n",
       "    </tr>\n",
       "    <tr>\n",
       "      <th>4</th>\n",
       "      <td>c</td>\n",
       "      <td>True</td>\n",
       "      <td>True</td>\n",
       "      <td>True</td>\n",
       "      <td>False</td>\n",
       "      <td>5</td>\n",
       "      <td>17</td>\n",
       "    </tr>\n",
       "  </tbody>\n",
       "</table>\n",
       "</div>"
      ],
      "text/plain": [
       "  cohort  has_first_name  has_last_name  has_verfied_email  has_phone  \\\n",
       "0      c           False           True              False      False   \n",
       "1      a            True           True              False       True   \n",
       "2      c            True           True               True      False   \n",
       "3      a            True          False              False      False   \n",
       "4      c            True           True               True      False   \n",
       "\n",
       "   number_of_items_watched  total_antibodies_sold  \n",
       "0                        0                     10  \n",
       "1                        1                     32  \n",
       "2                       10                     14  \n",
       "3                        0                     19  \n",
       "4                        5                     17  "
      ]
     },
     "execution_count": 16,
     "metadata": {},
     "output_type": "execute_result"
    }
   ],
   "source": [
    "# Merging dataframe for subsequent research questions\n",
    "dfuserdata = pd.merge(df1, df2, on=['userid'])\n",
    "dfuserdata['total_antibodies_sold'] = dfuserdata[['week 1', 'week 2', 'week 3', 'week 4', 'week 5', 'week 6', 'week 7', 'week 8', 'week 9', 'week 10', 'week 11', 'week 12', 'week 13', 'week 14', 'week 15']].sum(axis=1)\n",
    "dfuserdata.drop(['userid', 'week 1', 'week 2', 'week 3', 'week 4', 'week 5', 'week 6', 'week 7', 'week 8', 'week 9', 'week 10', 'week 11', 'week 12', 'week 13', 'week 14', 'week 15'], axis=1, inplace=True)\n",
    "dfuserdata.head(5)"
   ]
  },
  {
   "cell_type": "markdown",
   "metadata": {},
   "source": [
    "#### The second research question would be around the 'completion' of user information given. It could be that different cohorts had different UI elements, such as flow of registration, and a certain cohort would have performed the best in terms of a user providing all their information (first name, last name and email). "
   ]
  },
  {
   "cell_type": "code",
   "execution_count": 21,
   "metadata": {},
   "outputs": [
    {
     "name": "stdout",
     "output_type": "stream",
     "text": [
      "has_first_name    False                   True                   \n",
      "has_last_name     False       True        False       True       \n",
      "has_verfied_email False True  False True  False True  False True \n",
      "cohort                                                           \n",
      "a                    10    15    67    63    19    20   109    93\n",
      "b                     0    14     8    75     0    23     4   154\n",
      "c                    15     8    97    43    26    11   173    61\n"
     ]
    }
   ],
   "source": [
    "userdata_crosstabb = pd.crosstab(dfuserdata['cohort'], [dfuserdata['has_first_name'], dfuserdata['has_last_name'], dfuserdata['has_verfied_email']] , margins = False) \n",
    "print(userdata_crosstabb)"
   ]
  },
  {
   "cell_type": "code",
   "execution_count": 22,
   "metadata": {},
   "outputs": [],
   "source": [
    "# TODO: Finish analysis"
   ]
  },
  {
   "cell_type": "markdown",
   "metadata": {},
   "source": [
    "Once we know the exact flow of registration, we can arrive at specific metrics for each stage of a user giving out their information in later analysis. "
   ]
  },
  {
   "cell_type": "markdown",
   "metadata": {},
   "source": [
    "#### The third research question would be to see if there is a correlation of number of items watched to the total number of antibodies purchased by each user in a cohort. This could mean that there is a better conversion rate between having an antibody marked relevant to it being purchased. "
   ]
  },
  {
   "cell_type": "code",
   "execution_count": 23,
   "metadata": {},
   "outputs": [
    {
     "data": {
      "image/png": "[encoded data removed]",
      "text/plain": [
       "<Figure size 402.25x360 with 6 Axes>"
      ]
     },
     "metadata": {
      "needs_background": "light"
     },
     "output_type": "display_data"
    }
   ],
   "source": [
    "g = sns.pairplot(dfuserdata, diag_kind = 'hist', vars = [\"number_of_items_watched\", \"total_antibodies_sold\"], hue = \"cohort\", markers = [\"o\", \"s\", \"D\"])"
   ]
  },
  {
   "cell_type": "code",
   "execution_count": 24,
   "metadata": {},
   "outputs": [
    {
     "name": "stdout",
     "output_type": "stream",
     "text": [
      "Pearson coeffeciant of cohort_a:  0.0034276294496395168\n",
      "Pearson coeffeciant of cohort_b:  -0.03998596828654133\n",
      "Pearson coeffeciant of cohort_c:  0.013324692309025648\n"
     ]
    }
   ],
   "source": [
    "print(\"Pearson coeffeciant of cohort_a: \", pearsonr(dfuserdata[dfuserdata['cohort']=='a']['number_of_items_watched'], dfuserdata[dfuserdata['cohort']=='a']['total_antibodies_sold'])[0])\n",
    "print(\"Pearson coeffeciant of cohort_b: \", pearsonr(dfuserdata[dfuserdata['cohort']=='b']['number_of_items_watched'], dfuserdata[dfuserdata['cohort']=='b']['total_antibodies_sold'])[0])\n",
    "print(\"Pearson coeffeciant of cohort_c: \", pearsonr(dfuserdata[dfuserdata['cohort']=='c']['number_of_items_watched'], dfuserdata[dfuserdata['cohort']=='c']['total_antibodies_sold'])[0])"
   ]
  },
  {
   "cell_type": "markdown",
   "metadata": {},
   "source": [
    "#### From the scatter plots and pearson coeffeciants, it looks like there seems to be no correlation between the number of items watched to total antibodies sold in each cohort"
   ]
  }
 ],
 "metadata": {
  "kernelspec": {
   "display_name": "Python 3",
   "language": "python",
   "name": "python3"
  },
  "language_info": {
   "codemirror_mode": {
    "name": "ipython",
    "version": 3
   },
   "file_extension": ".py",
   "mimetype": "text/x-python",
   "name": "python",
   "nbconvert_exporter": "python",
   "pygments_lexer": "ipython3",
   "version": "3.7.1"
  }
 },
 "nbformat": 4,
 "nbformat_minor": 2
}
